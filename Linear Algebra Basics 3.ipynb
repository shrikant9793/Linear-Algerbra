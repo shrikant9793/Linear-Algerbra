{
 "cells": [
  {
   "cell_type": "code",
   "execution_count": 6,
   "metadata": {},
   "outputs": [],
   "source": [
    "import pandas as pd\n",
    "import numpy as np\n",
    "import sympy as sy\n",
    "import scipy as sp\n",
    "import scipy.linalg\n",
    "from mpl_toolkits.mplot3d import Axes3D\n",
    "sy.init_printing()"
   ]
  },
  {
   "cell_type": "code",
   "execution_count": 7,
   "metadata": {},
   "outputs": [],
   "source": [
    "np.set_printoptions(precision=3)\n",
    "np.set_printoptions(suppress=True)"
   ]
  },
  {
   "cell_type": "code",
   "execution_count": 9,
   "metadata": {},
   "outputs": [],
   "source": [
    "from IPython.core.interactiveshell import InteractiveShell\n",
    "InteractiveShell.ast_node_interactivity = \"all\""
   ]
  },
  {
   "cell_type": "code",
   "execution_count": 10,
   "metadata": {},
   "outputs": [],
   "source": [
    "def round_expr(expr, num_digits):\n",
    "    return expr.xreplace({n: round(n, num_digits) for n in expr.atoms(sy.Number)})"
   ]
  },
  {
   "cell_type": "code",
   "execution_count": 11,
   "metadata": {},
   "outputs": [
    {
     "data": {
      "image/png": "[encoded data removed]",
      "text/latex": [
       "$\\displaystyle \\left( a, \\  b, \\  c, \\  d, \\  e, \\  f, \\  g, \\  h, \\  i\\right)$"
      ],
      "text/plain": [
       "(a, b, c, d, e, f, g, h, i)"
      ]
     },
     "execution_count": 11,
     "metadata": {},
     "output_type": "execute_result"
    }
   ],
   "source": [
    "a, b, c, d, e, f, g, h, i = sy.symbols('a, b, c, d, e, f, g, h, i', real = True)\n",
    "a, b, c, d, e, f, g, h, i"
   ]
  },
  {
   "cell_type": "code",
   "execution_count": 12,
   "metadata": {},
   "outputs": [
    {
     "data": {
      "image/png": "[encoded data removed]",
      "text/latex": [
       "$\\displaystyle a d - b c$"
      ],
      "text/plain": [
       "a⋅d - b⋅c"
      ]
     },
     "execution_count": 12,
     "metadata": {},
     "output_type": "execute_result"
    }
   ],
   "source": [
    "A = sy.Matrix([[a, b], [c, d]])\n",
    "A.det()"
   ]
  },
  {
   "cell_type": "code",
   "execution_count": 13,
   "metadata": {},
   "outputs": [
    {
     "data": {
      "image/png": "[encoded data removed]",
      "text/latex": [
       "$\\displaystyle a e i - a f h - b d i + b f g + c d h - c e g$"
      ],
      "text/plain": [
       "a⋅e⋅i - a⋅f⋅h - b⋅d⋅i + b⋅f⋅g + c⋅d⋅h - c⋅e⋅g"
      ]
     },
     "execution_count": 13,
     "metadata": {},
     "output_type": "execute_result"
    }
   ],
   "source": [
    "B = sy.Matrix([[a, b, c], [d, e, f], [g, h, i]])\n",
    "B.det()"
   ]
  },
  {
   "cell_type": "code",
   "execution_count": 14,
   "metadata": {},
   "outputs": [
    {
     "data": {
      "text/latex": [
       "$\\displaystyle \\left[\\begin{matrix}a & b & c\\\\d & e & f\\\\g & h & i\\end{matrix}\\right]$"
      ],
      "text/plain": [
       "⎡a  b  c⎤\n",
       "⎢       ⎥\n",
       "⎢d  e  f⎥\n",
       "⎢       ⎥\n",
       "⎣g  h  i⎦"
      ]
     },
     "execution_count": 14,
     "metadata": {},
     "output_type": "execute_result"
    }
   ],
   "source": [
    "B"
   ]
  },
  {
   "cell_type": "code",
   "execution_count": 15,
   "metadata": {},
   "outputs": [
    {
     "data": {
      "image/png": "[encoded data removed]",
      "text/latex": [
       "$\\displaystyle a e i - a f h - b d i + b f g + c d h - c e g$"
      ],
      "text/plain": [
       "a⋅e⋅i - a⋅f⋅h - b⋅d⋅i + b⋅f⋅g + c⋅d⋅h - c⋅e⋅g"
      ]
     },
     "execution_count": 15,
     "metadata": {},
     "output_type": "execute_result"
    }
   ],
   "source": [
    "B.det()"
   ]
  },
  {
   "cell_type": "code",
   "execution_count": 16,
   "metadata": {},
   "outputs": [
    {
     "data": {
      "text/latex": [
       "$\\displaystyle \\left[\\begin{matrix}a & b\\\\c & d\\end{matrix}\\right]$"
      ],
      "text/plain": [
       "⎡a  b⎤\n",
       "⎢    ⎥\n",
       "⎣c  d⎦"
      ]
     },
     "execution_count": 16,
     "metadata": {},
     "output_type": "execute_result"
    }
   ],
   "source": [
    "A"
   ]
  },
  {
   "cell_type": "code",
   "execution_count": 17,
   "metadata": {},
   "outputs": [
    {
     "data": {
      "image/png": "[encoded data removed]",
      "text/latex": [
       "$\\displaystyle a d - b c$"
      ],
      "text/plain": [
       "a⋅d - b⋅c"
      ]
     },
     "execution_count": 17,
     "metadata": {},
     "output_type": "execute_result"
    }
   ],
   "source": [
    "A.det()"
   ]
  },
  {
   "cell_type": "code",
   "execution_count": 18,
   "metadata": {},
   "outputs": [
    {
     "data": {
      "text/latex": [
       "$\\displaystyle \\left[\\begin{matrix}49 & 0 & 61\\\\73 & 22 & 96\\\\2 & 0 & 32\\end{matrix}\\right]$"
      ],
      "text/plain": [
       "⎡49  0   61⎤\n",
       "⎢          ⎥\n",
       "⎢73  22  96⎥\n",
       "⎢          ⎥\n",
       "⎣2   0   32⎦"
      ]
     },
     "execution_count": 18,
     "metadata": {},
     "output_type": "execute_result"
    }
   ],
   "source": [
    "A = sy.Matrix([[49, 0, 61], [73, 22, 96], [2, 0, 32]]);\n",
    "A"
   ]
  },
  {
   "cell_type": "code",
   "execution_count": 20,
   "metadata": {},
   "outputs": [
    {
     "data": {
      "image/png": "[encoded data removed]",
      "text/latex": [
       "$\\displaystyle 31812$"
      ],
      "text/plain": [
       "31812"
      ]
     },
     "execution_count": 20,
     "metadata": {},
     "output_type": "execute_result"
    }
   ],
   "source": [
    "A.det()"
   ]
  },
  {
   "cell_type": "code",
   "execution_count": 21,
   "metadata": {},
   "outputs": [],
   "source": [
    "def cof_exp(matrix, c):\n",
    "    detA = 0\n",
    "    for i in range(matrix.shape[1]):\n",
    "        detA += matrix[i, c]* (-1)**(i+c)*sy.matrices.MatrixDeterminant.minor(matrix, i, c)\n",
    "    return detA"
   ]
  },
  {
   "cell_type": "code",
   "execution_count": 22,
   "metadata": {},
   "outputs": [
    {
     "ename": "NameError",
     "evalue": "name 'detA' is not defined",
     "output_type": "error",
     "traceback": [
      "\u001b[1;31m---------------------------------------------------------------------------\u001b[0m",
      "\u001b[1;31mNameError\u001b[0m                                 Traceback (most recent call last)",
      "\u001b[1;32m<ipython-input-22-800f9e9300c4>\u001b[0m in \u001b[0;36m<module>\u001b[1;34m\u001b[0m\n\u001b[1;32m----> 1\u001b[1;33m \u001b[0mdetA\u001b[0m\u001b[1;33m\u001b[0m\u001b[1;33m\u001b[0m\u001b[0m\n\u001b[0m",
      "\u001b[1;31mNameError\u001b[0m: name 'detA' is not defined"
     ]
    }
   ],
   "source": [
    "detA"
   ]
  },
  {
   "cell_type": "code",
   "execution_count": 23,
   "metadata": {},
   "outputs": [
    {
     "data": {
      "image/png": "[encoded data removed]",
      "text/latex": [
       "$\\displaystyle 31812$"
      ],
      "text/plain": [
       "31812"
      ]
     },
     "execution_count": 23,
     "metadata": {},
     "output_type": "execute_result"
    }
   ],
   "source": [
    "cof_exp(A,1)"
   ]
  },
  {
   "cell_type": "code",
   "execution_count": 24,
   "metadata": {},
   "outputs": [
    {
     "data": {
      "text/latex": [
       "$\\displaystyle \\left[\\begin{matrix}0 & 22 & 34 & 43 & 39 & 18 & 10\\\\0 & 30 & 37 & 13 & 41 & 0 & 40\\\\43 & 0 & 35 & 28 & 0 & 23 & 45\\\\46 & 0 & 0 & 0 & 42 & 13 & 39\\\\29 & 0 & 13 & 0 & 10 & 18 & 45\\\\0 & 16 & 47 & 41 & 44 & 0 & 44\\\\43 & 0 & 41 & 47 & 45 & 0 & 19\\end{matrix}\\right]$"
      ],
      "text/plain": [
       "⎡0   22  34  43  39  18  10⎤\n",
       "⎢                          ⎥\n",
       "⎢0   30  37  13  41  0   40⎥\n",
       "⎢                          ⎥\n",
       "⎢43  0   35  28  0   23  45⎥\n",
       "⎢                          ⎥\n",
       "⎢46  0   0   0   42  13  39⎥\n",
       "⎢                          ⎥\n",
       "⎢29  0   13  0   10  18  45⎥\n",
       "⎢                          ⎥\n",
       "⎢0   16  47  41  44  0   44⎥\n",
       "⎢                          ⎥\n",
       "⎣43  0   41  47  45  0   19⎦"
      ]
     },
     "execution_count": 24,
     "metadata": {},
     "output_type": "execute_result"
    }
   ],
   "source": [
    "B = sy.randMatrix(r = 7, min= 10, max= 50, percent=70);\n",
    "B"
   ]
  },
  {
   "cell_type": "code",
   "execution_count": 25,
   "metadata": {},
   "outputs": [
    {
     "data": {
      "image/png": "[encoded data removed]",
      "text/latex": [
       "$\\displaystyle -25010056542$"
      ],
      "text/plain": [
       "-25010056542"
      ]
     },
     "execution_count": 25,
     "metadata": {},
     "output_type": "execute_result"
    }
   ],
   "source": [
    "B.det()"
   ]
  },
  {
   "cell_type": "code",
   "execution_count": 26,
   "metadata": {},
   "outputs": [
    {
     "data": {
      "image/png": "[encoded data removed]",
      "text/latex": [
       "$\\displaystyle -25010056542$"
      ],
      "text/plain": [
       "-25010056542"
      ]
     },
     "execution_count": 26,
     "metadata": {},
     "output_type": "execute_result"
    }
   ],
   "source": [
    "cof_exp(B, 1)"
   ]
  },
  {
   "cell_type": "code",
   "execution_count": 27,
   "metadata": {},
   "outputs": [
    {
     "data": {
      "text/latex": [
       "$\\displaystyle \\left[\\begin{matrix}0 & 22 & 34 & 39 & 18 & 10\\\\0 & 30 & 37 & 41 & 0 & 40\\\\46 & 0 & 0 & 42 & 13 & 39\\\\29 & 0 & 13 & 10 & 18 & 45\\\\0 & 16 & 47 & 44 & 0 & 44\\\\43 & 0 & 41 & 45 & 0 & 19\\end{matrix}\\right]$"
      ],
      "text/plain": [
       "⎡0   22  34  39  18  10⎤\n",
       "⎢                      ⎥\n",
       "⎢0   30  37  41  0   40⎥\n",
       "⎢                      ⎥\n",
       "⎢46  0   0   42  13  39⎥\n",
       "⎢                      ⎥\n",
       "⎢29  0   13  10  18  45⎥\n",
       "⎢                      ⎥\n",
       "⎢0   16  47  44  0   44⎥\n",
       "⎢                      ⎥\n",
       "⎣43  0   41  45  0   19⎦"
      ]
     },
     "execution_count": 27,
     "metadata": {},
     "output_type": "execute_result"
    }
   ],
   "source": [
    "sy.matrices.MatrixDeterminant.minor_submatrix(B, 2, 3)"
   ]
  },
  {
   "cell_type": "code",
   "execution_count": 28,
   "metadata": {},
   "outputs": [
    {
     "data": {
      "text/latex": [
       "$\\displaystyle \\left[\\begin{matrix}704 & -2144 & -44\\\\0 & 1446 & 0\\\\-1342 & -251 & 1078\\end{matrix}\\right]$"
      ],
      "text/plain": [
       "⎡ 704   -2144  -44 ⎤\n",
       "⎢                  ⎥\n",
       "⎢  0    1446    0  ⎥\n",
       "⎢                  ⎥\n",
       "⎣-1342  -251   1078⎦"
      ]
     },
     "execution_count": 28,
     "metadata": {},
     "output_type": "execute_result"
    }
   ],
   "source": [
    "sy.matrices.MatrixDeterminant.cofactor_matrix(A)"
   ]
  },
  {
   "cell_type": "code",
   "execution_count": 29,
   "metadata": {},
   "outputs": [
    {
     "data": {
      "text/latex": [
       "$\\displaystyle \\left[\\begin{matrix}49 & 0 & 61\\\\73 & 22 & 96\\\\2 & 0 & 32\\end{matrix}\\right]$"
      ],
      "text/plain": [
       "⎡49  0   61⎤\n",
       "⎢          ⎥\n",
       "⎢73  22  96⎥\n",
       "⎢          ⎥\n",
       "⎣2   0   32⎦"
      ]
     },
     "execution_count": 29,
     "metadata": {},
     "output_type": "execute_result"
    }
   ],
   "source": [
    "A"
   ]
  },
  {
   "cell_type": "code",
   "execution_count": 30,
   "metadata": {},
   "outputs": [
    {
     "data": {
      "text/latex": [
       "$\\displaystyle \\left[\\begin{matrix}236771686 & 160497239 & -257495862 & 150053410 & -312955406 & -996188836 & 389822676\\\\-395728094 & -1008918388 & -386144946 & 485171686 & 147201142 & 384517268 & 180059484\\\\-758221710 & -2122282422 & 1836600312 & -1735868112 & 1183367772 & 1127565078 & -755938302\\\\-512112786 & -1545934194 & 2170378524 & -1480906428 & 376422156 & 930170604 & -752687610\\\\1101926400 & 3667816107 & -3656766804 & 3137543820 & -1470986082 & -2505826230 & 1119706206\\\\416429108 & 107909740 & 1078078584 & -1116020350 & 154311542 & 648789772 & -873617712\\\\-18725592 & 1302429069 & -1692209028 & 1204075668 & -593991558 & -432655476 & 805988304\\end{matrix}\\right]$"
      ],
      "text/plain": [
       "⎡236771686    160497239   -257495862    150053410   -312955406   -996188836   \n",
       "⎢                                                                             \n",
       "⎢-395728094  -1008918388  -386144946    485171686    147201142    384517268   \n",
       "⎢                                                                             \n",
       "⎢-758221710  -2122282422  1836600312   -1735868112  1183367772   1127565078   \n",
       "⎢                                                                             \n",
       "⎢-512112786  -1545934194  2170378524   -1480906428   376422156    930170604   \n",
       "⎢                                                                             \n",
       "⎢1101926400  3667816107   -3656766804  3137543820   -1470986082  -2505826230  \n",
       "⎢                                                                             \n",
       "⎢416429108    107909740   1078078584   -1116020350   154311542    648789772   \n",
       "⎢                                                                             \n",
       "⎣-18725592   1302429069   -1692209028  1204075668   -593991558   -432655476   \n",
       "\n",
       "389822676 ⎤\n",
       "          ⎥\n",
       "180059484 ⎥\n",
       "          ⎥\n",
       "-755938302⎥\n",
       "          ⎥\n",
       "-752687610⎥\n",
       "          ⎥\n",
       "1119706206⎥\n",
       "          ⎥\n",
       "-873617712⎥\n",
       "          ⎥\n",
       "805988304 ⎦"
      ]
     },
     "execution_count": 30,
     "metadata": {},
     "output_type": "execute_result"
    }
   ],
   "source": [
    "sy.matrices.MatrixDeterminant.cofactor_matrix(B)"
   ]
  },
  {
   "cell_type": "code",
   "execution_count": 31,
   "metadata": {},
   "outputs": [
    {
     "data": {
      "text/plain": [
       "array([[81., 23., 35., 42., 36.],\n",
       "       [ 0.,  0., 75., 83.,  9.],\n",
       "       [ 0.,  0., 89., 92., 82.],\n",
       "       [ 0.,  0.,  0., 92., 81.],\n",
       "       [ 0.,  0.,  0.,  0., 95.]])"
      ]
     },
     "execution_count": 31,
     "metadata": {},
     "output_type": "execute_result"
    }
   ],
   "source": [
    "A = np.round(np.random.rand(5,5)*100)\n",
    "A_triu = np.triu(A);\n",
    "A_triu"
   ]
  },
  {
   "cell_type": "code",
   "execution_count": 32,
   "metadata": {},
   "outputs": [
    {
     "data": {
      "text/plain": [
       "array([[81., 23., 35., 42., 36.],\n",
       "       [79.,  0., 75., 83.,  9.],\n",
       "       [52., 78., 89., 92., 82.],\n",
       "       [36., 67., 75., 92., 81.],\n",
       "       [36., 97., 70., 16., 95.]])"
      ]
     },
     "execution_count": 32,
     "metadata": {},
     "output_type": "execute_result"
    }
   ],
   "source": [
    "A"
   ]
  },
  {
   "cell_type": "code",
   "execution_count": 33,
   "metadata": {},
   "outputs": [
    {
     "data": {
      "image/png": "[encoded data removed]",
      "text/latex": [
       "$\\displaystyle 0.0$"
      ],
      "text/plain": [
       "0.0"
      ]
     },
     "execution_count": 33,
     "metadata": {},
     "output_type": "execute_result"
    }
   ],
   "source": [
    "np.linalg.det(A_triu)"
   ]
  },
  {
   "cell_type": "code",
   "execution_count": 35,
   "metadata": {},
   "outputs": [
    {
     "data": {
      "image/png": "[encoded data removed]",
      "text/latex": [
       "$\\displaystyle -25010056542$"
      ],
      "text/plain": [
       "-25010056542"
      ]
     },
     "execution_count": 35,
     "metadata": {},
     "output_type": "execute_result"
    }
   ],
   "source": [
    "B.det()"
   ]
  },
  {
   "cell_type": "code",
   "execution_count": 36,
   "metadata": {},
   "outputs": [
    {
     "data": {
      "image/png": "[encoded data removed]",
      "text/latex": [
       "$\\displaystyle 0.0$"
      ],
      "text/plain": [
       "0.0"
      ]
     },
     "execution_count": 36,
     "metadata": {},
     "output_type": "execute_result"
    }
   ],
   "source": [
    "A_diag = np.diag(A_triu)\n",
    "np.prod(A_diag)"
   ]
  },
  {
   "cell_type": "code",
   "execution_count": 37,
   "metadata": {},
   "outputs": [
    {
     "name": "stdout",
     "output_type": "stream",
     "text": [
      "[[ 2 -1  3]\n",
      " [ 3  3 -1]\n",
      " [-1 -1  1]]\n",
      "[-3 10 -4]\n"
     ]
    }
   ],
   "source": [
    "A = np.array([[2, -1, 3], [3, 3, -1], [-1, -1, 1]])\n",
    "print(A)\n",
    "b = np.array([-3, 10, -4])\n",
    "print(b)"
   ]
  },
  {
   "cell_type": "code",
   "execution_count": 38,
   "metadata": {},
   "outputs": [],
   "source": [
    "A_1b = np.copy(A)\n",
    "A_1b[:, 0]=b\n",
    "\n",
    "A_2b = np.copy(A)\n",
    "A_2b[:, 1]= b\n",
    "\n",
    "A_3b = np.copy(A)\n",
    "A_3b[:, 2]=b"
   ]
  },
  {
   "cell_type": "code",
   "execution_count": 39,
   "metadata": {},
   "outputs": [
    {
     "data": {
      "text/plain": [
       "array([-3, 10, -4])"
      ]
     },
     "execution_count": 39,
     "metadata": {},
     "output_type": "execute_result"
    }
   ],
   "source": [
    "b"
   ]
  },
  {
   "cell_type": "code",
   "execution_count": 40,
   "metadata": {},
   "outputs": [
    {
     "data": {
      "text/plain": [
       "array([[ 2, -3,  3],\n",
       "       [ 3, 10, -1],\n",
       "       [-1, -4,  1]])"
      ]
     },
     "execution_count": 40,
     "metadata": {},
     "output_type": "execute_result"
    }
   ],
   "source": [
    "A_2b"
   ]
  },
  {
   "cell_type": "code",
   "execution_count": 41,
   "metadata": {},
   "outputs": [
    {
     "data": {
      "text/plain": [
       "array([[-3, -1,  3],\n",
       "       [10,  3, -1],\n",
       "       [-4, -1,  1]])"
      ]
     },
     "execution_count": 41,
     "metadata": {},
     "output_type": "execute_result"
    }
   ],
   "source": [
    "A_1b"
   ]
  },
  {
   "cell_type": "code",
   "execution_count": 42,
   "metadata": {},
   "outputs": [
    {
     "name": "stdout",
     "output_type": "stream",
     "text": [
      "1.0000000000000004\n",
      "1.9999999999999982\n",
      "1.9999999999999982\n"
     ]
    },
    {
     "data": {
      "image/png": "[encoded data removed]",
      "text/latex": [
       "$\\displaystyle \\left( 1.0000000000000004, \\  1.9999999999999982, \\  -1.0000000000000002\\right)$"
      ],
      "text/plain": [
       "(1.0000000000000004, 1.9999999999999982, -1.0000000000000002)"
      ]
     },
     "execution_count": 42,
     "metadata": {},
     "output_type": "execute_result"
    }
   ],
   "source": [
    "x1 = np.linalg.det(A_1b)/np.linalg.det(A)\n",
    "print(x1)\n",
    "x2 = np.linalg.det(A_2b)/np.linalg.det(A)\n",
    "print(x2)\n",
    "x3 = np.linalg.det(A_3b)/np.linalg.det(A)\n",
    "print(x2)\n",
    "\n",
    "(x1, x2, x3)"
   ]
  },
  {
   "cell_type": "code",
   "execution_count": 43,
   "metadata": {},
   "outputs": [
    {
     "data": {
      "text/plain": [
       "array([ 1.,  2., -1.])"
      ]
     },
     "execution_count": 43,
     "metadata": {},
     "output_type": "execute_result"
    }
   ],
   "source": [
    "np.linalg.solve(A, b)"
   ]
  },
  {
   "cell_type": "code",
   "execution_count": 44,
   "metadata": {},
   "outputs": [
    {
     "data": {
      "text/plain": [
       "array([ 1.,  2., -1.])"
      ]
     },
     "execution_count": 44,
     "metadata": {},
     "output_type": "execute_result"
    }
   ],
   "source": [
    "np.linalg.inv(A)@b"
   ]
  },
  {
   "cell_type": "code",
   "execution_count": 45,
   "metadata": {},
   "outputs": [
    {
     "data": {
      "text/latex": [
       "$\\displaystyle \\left[\\begin{matrix}0 & -2 & 0 & 0 & -4\\\\4 & 3 & 3 & -4 & -5\\\\0 & 4 & 3 & -5 & -2\\\\4 & -3 & 1 & 1 & 5\\\\-1 & -5 & -5 & 5 & 0\\end{matrix}\\right]$"
      ],
      "text/plain": [
       "⎡0   -2  0   0   -4⎤\n",
       "⎢                  ⎥\n",
       "⎢4   3   3   -4  -5⎥\n",
       "⎢                  ⎥\n",
       "⎢0   4   3   -5  -2⎥\n",
       "⎢                  ⎥\n",
       "⎢4   -3  1   1   5 ⎥\n",
       "⎢                  ⎥\n",
       "⎣-1  -5  -5  5   0 ⎦"
      ]
     },
     "execution_count": 45,
     "metadata": {},
     "output_type": "execute_result"
    }
   ],
   "source": [
    "A = sy.randMatrix(5, min = -5, max= 5, percent= 80);\n",
    "A"
   ]
  },
  {
   "cell_type": "code",
   "execution_count": 46,
   "metadata": {},
   "outputs": [
    {
     "data": {
      "text/latex": [
       "$\\displaystyle \\left[\\begin{matrix}-135 & 180 & -30 & 60 & 102\\\\-239 & 128 & -212 & -148 & -80\\\\282 & -90 & -414 & -30 & -480\\\\16 & 74 & -632 & -166 & -368\\\\-95 & -64 & 106 & 74 & 40\\end{matrix}\\right]$"
      ],
      "text/plain": [
       "⎡-135  180  -30    60   102 ⎤\n",
       "⎢                           ⎥\n",
       "⎢-239  128  -212  -148  -80 ⎥\n",
       "⎢                           ⎥\n",
       "⎢282   -90  -414  -30   -480⎥\n",
       "⎢                           ⎥\n",
       "⎢ 16   74   -632  -166  -368⎥\n",
       "⎢                           ⎥\n",
       "⎣-95   -64  106    74    40 ⎦"
      ]
     },
     "execution_count": 46,
     "metadata": {},
     "output_type": "execute_result"
    }
   ],
   "source": [
    "A_adjugate = sy.matrices.MatrixDeterminant.adjugate(A);\n",
    "A_adjugate"
   ]
  },
  {
   "cell_type": "code",
   "execution_count": 47,
   "metadata": {},
   "outputs": [
    {
     "data": {
      "image/png": "[encoded data removed]",
      "text/latex": [
       "$\\displaystyle 282$"
      ],
      "text/plain": [
       "282"
      ]
     },
     "execution_count": 47,
     "metadata": {},
     "output_type": "execute_result"
    },
    {
     "data": {
      "image/png": "[encoded data removed]",
      "text/latex": [
       "$\\displaystyle -148$"
      ],
      "text/plain": [
       "-148"
      ]
     },
     "execution_count": 47,
     "metadata": {},
     "output_type": "execute_result"
    },
    {
     "data": {
      "image/png": "[encoded data removed]",
      "text/latex": [
       "$\\displaystyle 74$"
      ],
      "text/plain": [
       "74"
      ]
     },
     "execution_count": 47,
     "metadata": {},
     "output_type": "execute_result"
    }
   ],
   "source": [
    "(-1)**(1+3) * sy.matrices.MatrixDeterminant.minor(A, 0, 2)\n",
    "(-1)**(2+4) * sy.matrices.MatrixDeterminant.minor(A, 3, 1)\n",
    "(-1)**(5+4) * sy.matrices.MatrixDeterminant.minor(A, 3, 4)"
   ]
  },
  {
   "cell_type": "code",
   "execution_count": 48,
   "metadata": {},
   "outputs": [
    {
     "data": {
      "image/png": "[encoded data removed]",
      "text/latex": [
       "$\\displaystyle -282$"
      ],
      "text/plain": [
       "-282"
      ]
     },
     "execution_count": 48,
     "metadata": {},
     "output_type": "execute_result"
    }
   ],
   "source": [
    "(-1)**(3+4) * sy.matrices.MatrixDeterminant.minor(A, 0, 2)"
   ]
  },
  {
   "cell_type": "code",
   "execution_count": 51,
   "metadata": {},
   "outputs": [
    {
     "data": {
      "text/latex": [
       "$\\displaystyle \\left[\\begin{matrix}-0.1573 & 0.2098 & -0.035 & 0.0699 & 0.1189\\\\-0.2786 & 0.1492 & -0.2471 & -0.1725 & -0.0932\\\\0.3287 & -0.1049 & -0.4825 & -0.035 & -0.5594\\\\0.0186 & 0.0862 & -0.7366 & -0.1935 & -0.4289\\\\-0.1107 & -0.0746 & 0.1235 & 0.0862 & 0.0466\\end{matrix}\\right]$"
      ],
      "text/plain": [
       "⎡-0.1573  0.2098   -0.035   0.0699   0.1189 ⎤\n",
       "⎢                                           ⎥\n",
       "⎢-0.2786  0.1492   -0.2471  -0.1725  -0.0932⎥\n",
       "⎢                                           ⎥\n",
       "⎢0.3287   -0.1049  -0.4825  -0.035   -0.5594⎥\n",
       "⎢                                           ⎥\n",
       "⎢0.0186   0.0862   -0.7366  -0.1935  -0.4289⎥\n",
       "⎢                                           ⎥\n",
       "⎣-0.1107  -0.0746  0.1235   0.0862   0.0466 ⎦"
      ]
     },
     "execution_count": 51,
     "metadata": {},
     "output_type": "execute_result"
    }
   ],
   "source": [
    "A_det = A.det()\n",
    "A_inv = (1/A_det)*A_adjugate;\n",
    "round_expr(sy.N(A_inv), 4)"
   ]
  },
  {
   "cell_type": "code",
   "execution_count": 52,
   "metadata": {},
   "outputs": [
    {
     "data": {
      "text/latex": [
       "$\\displaystyle \\left[\\begin{matrix}0 & 0 & 0 & 0 & 0\\\\0 & 0 & 0 & 0 & 0\\\\0 & 0 & 0 & 0 & 0\\\\0 & 0 & 0 & 0 & 0\\\\0 & 0 & 0 & 0 & 0\\end{matrix}\\right]$"
      ],
      "text/plain": [
       "⎡0  0  0  0  0⎤\n",
       "⎢             ⎥\n",
       "⎢0  0  0  0  0⎥\n",
       "⎢             ⎥\n",
       "⎢0  0  0  0  0⎥\n",
       "⎢             ⎥\n",
       "⎢0  0  0  0  0⎥\n",
       "⎢             ⎥\n",
       "⎣0  0  0  0  0⎦"
      ]
     },
     "execution_count": 52,
     "metadata": {},
     "output_type": "execute_result"
    }
   ],
   "source": [
    "A_inv-A.inv()"
   ]
  },
  {
   "cell_type": "code",
   "execution_count": null,
   "metadata": {},
   "outputs": [],
   "source": []
  }
 ],
 "metadata": {
  "kernelspec": {
   "display_name": "Python 3",
   "language": "python",
   "name": "python3"
  },
  "language_info": {
   "codemirror_mode": {
    "name": "ipython",
    "version": 3
   },
   "file_extension": ".py",
   "mimetype": "text/x-python",
   "name": "python",
   "nbconvert_exporter": "python",
   "pygments_lexer": "ipython3",
   "version": "3.7.4"
  }
 },
 "nbformat": 4,
 "nbformat_minor": 2
}
